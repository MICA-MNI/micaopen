{
 "cells": [
  {
   "cell_type": "code",
   "execution_count": 1,
   "id": "ec7f0689",
   "metadata": {},
   "outputs": [],
   "source": [
    "import numpy as np\n",
    "from sklearn.preprocessing import StandardScaler\n",
    "import matplotlib.pyplot as plt\n",
    "import seaborn as sns\n",
    "import pandas as pd\n",
    "%matplotlib inline\n",
    "import nibabel as nib\n",
    "import numpy.ma as ma\n",
    "from numpy import savetxt\n",
    "import os\n",
    "import umap.umap_ as umap"
   ]
  },
  {
   "cell_type": "code",
   "execution_count": 2,
   "id": "c7d421a0",
   "metadata": {},
   "outputs": [],
   "source": [
    "#input variables and path defs\n",
    "workDir = ***Insert working directory here***\n",
    "outDir = str(workDir+'outputs/')\n",
    "volDir = str(workDir+'volumes/')\n"
   ]
  },
  {
   "cell_type": "code",
   "execution_count": null,
   "id": "a28ebeb5",
   "metadata": {},
   "outputs": [],
   "source": [
    "##### run all the umap embeddings for all subjects at once #####\n",
    "\n",
    "for i in [1,4,5,6,7,9,10,11,12,13]:\n",
    "    if i <10:\n",
    "        sub=str('PNC00'+str(i))\n",
    "    else:\n",
    "        sub=str('PNC0'+str(i))\n",
    "    print(sub)\n",
    "    ses='01'\n",
    "    side='right'\n",
    "    side2='R'\n",
    "\n",
    "    os.chdir(outDir)\n",
    "    df=pd.read_csv(outDir+sub+'_'+ses+'features_'+side2+'/cropped_featurebank_1sd.csv',header=None)\n",
    "\n",
    "    path = str(outDir +sub+'_'+ses+'_'+side2+'_embedding_1sd.csv')\n",
    "\n",
    "    reducer = umap.UMAP(n_neighbors=15, min_dist=0.1)\n",
    "\n",
    "    feature_data = df.values\n",
    "    scaled_feature_data = StandardScaler().fit_transform(feature_data)\n",
    "\n",
    "    embedding = reducer.fit_transform(scaled_feature_data)\n",
    "\n",
    "    #savetxt(path,embedding, delimiter=',')\n"
   ]
  }
 ],
 "metadata": {
  "kernelspec": {
   "display_name": "Python 3 (ipykernel)",
   "language": "python",
   "name": "python3"
  },
  "language_info": {
   "codemirror_mode": {
    "name": "ipython",
    "version": 3
   },
   "file_extension": ".py",
   "mimetype": "text/x-python",
   "name": "python",
   "nbconvert_exporter": "python",
   "pygments_lexer": "ipython3",
   "version": "3.7.11"
  }
 },
 "nbformat": 4,
 "nbformat_minor": 5
}
