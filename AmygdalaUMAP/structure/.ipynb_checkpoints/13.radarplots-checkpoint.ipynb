{
 "cells": [
  {
   "cell_type": "code",
   "execution_count": 1,
   "id": "749776c1",
   "metadata": {},
   "outputs": [],
   "source": [
    "import numpy as np\n",
    "from sklearn.preprocessing import StandardScaler\n",
    "import matplotlib.pyplot as plt\n",
    "import seaborn as sns\n",
    "import pandas as pd\n",
    "%matplotlib inline\n",
    "import nibabel as nib\n",
    "import numpy.ma as ma\n",
    "from numpy import savetxt\n",
    "import os\n"
   ]
  },
  {
   "cell_type": "code",
   "execution_count": 2,
   "id": "f86fac67",
   "metadata": {},
   "outputs": [],
   "source": [
    "#input variables and path defs\n",
    "workDir = ***Insert working directory here***\n",
    "outDir = str(workDir+'outputs/')\n",
    "volDir = str(workDir+'volumes/')\n",
    "regDir = str(workDir+'registration/')\n"
   ]
  },
  {
   "cell_type": "code",
   "execution_count": 3,
   "id": "eb5f8c21",
   "metadata": {},
   "outputs": [
    {
     "name": "stdout",
     "output_type": "stream",
     "text": [
      "(20, 3)\n",
      "U1\n",
      "mean: [0.49417921 0.16632419 0.60360465]\n",
      "std: [0.19852237 0.1203314  0.13942076]\n",
      "U2\n",
      "mean: [0.47399278 0.28227452 0.33938981]\n",
      "std: [0.22663395 0.10067221 0.2304694 ]\n"
     ]
    }
   ],
   "source": [
    "#rearrange U1 and U2 for them to correspond correclty in graph\n",
    "side2='L'\n",
    "side='left'\n",
    "rVals=np.loadtxt(str(outDir+'corr_subs_'+side+'_1sd.csv'),delimiter=',',skiprows=1)\n",
    "#print(rVals)\n",
    "coord=['X','Y','Z']\n",
    "rVals=np.abs(rVals)\n",
    "#print(rVals)\n",
    "print(rVals.shape)\n",
    "U1=np.delete(rVals,[1,3,5,7,9,11,13,15,17,19],axis=0)\n",
    "U2=np.delete(rVals,[0,2,4,6,8,10,12,14,16,18],axis=0)\n",
    "print('U1')\n",
    "print('mean: '+str(np.mean(U1,axis=0)))\n",
    "print('std: '+str(np.std(U1,axis=0)))\n",
    "print('U2')\n",
    "print('mean: '+str(np.mean(U2,axis=0)))\n",
    "print('std: '+str(np.std(U2,axis=0)))\n",
    "#print(rVals)"
   ]
  },
  {
   "cell_type": "code",
   "execution_count": 4,
   "id": "cc7e9687",
   "metadata": {},
   "outputs": [
    {
     "data": {
      "text/plain": [
       "<matplotlib.legend.Legend at 0x7f0a30e0ba90>"
      ]
     },
     "execution_count": 4,
     "metadata": {},
     "output_type": "execute_result"
    },
    {
     "data": {
      "image/png": "[encoded data removed]",
      "text/plain": [
       "<Figure size 432x288 with 1 Axes>"
      ]
     },
     "metadata": {
      "needs_background": "light"
     },
     "output_type": "display_data"
    }
   ],
   "source": [
    "#make histogram for all different r values of each participant for U1 \n",
    "coord=['X','Y','Z']\n",
    "\n",
    "X = ['S1','S4','S5','S6','S7','S9','S10','S11','S12','S13']  \n",
    "\n",
    "X_axis = np.arange(len(X))\n",
    "  \n",
    "plt.bar(X_axis - 0.2, rVals[::2,0], 0.2, label = 'I-S')\n",
    "plt.bar(X_axis + 0, rVals[::2,1], 0.2, label = 'P-A')\n",
    "plt.bar(X_axis + 0.2, rVals[::2,2], 0.2, label = 'M-L')\n",
    "  \n",
    "plt.xticks(X_axis, X)\n",
    "plt.xlabel(\"Subjects\")\n",
    "plt.ylabel(\"Correlation (r)\")\n",
    "plt.title(\"Correlation of u1 to axes in each subject\")\n",
    "plt.legend()\n",
    "#plt.show()\n",
    "#plt.savefig(str(\"/home/bic/hauer/Desktop/barGraphU1.png\"))"
   ]
  },
  {
   "cell_type": "code",
   "execution_count": 5,
   "id": "0d26b849",
   "metadata": {},
   "outputs": [
    {
     "data": {
      "text/plain": [
       "<matplotlib.legend.Legend at 0x7f0a30e0ba10>"
      ]
     },
     "execution_count": 5,
     "metadata": {},
     "output_type": "execute_result"
    },
    {
     "data": {
      "image/png": "[encoded data removed]",
      "text/plain": [
       "<Figure size 432x288 with 1 Axes>"
      ]
     },
     "metadata": {
      "needs_background": "light"
     },
     "output_type": "display_data"
    }
   ],
   "source": [
    "#make histogram for all different r values of each participant for U2\n",
    "\n",
    "coord=['X','Y','Z']\n",
    "\n",
    "X = ['S1','S4','S5','S6','S7','S9','S10','S11','S12','S13']  \n",
    "X_axis = np.arange(len(X))\n",
    "  \n",
    "plt.bar(X_axis - 0.2, rVals[1::2,0], 0.2, label = 'I-S')\n",
    "plt.bar(X_axis + 0, rVals[1::2,1], 0.2, label = 'P-A')\n",
    "plt.bar(X_axis + 0.2, rVals[1::2,2], 0.2, label = 'M-L')\n",
    "  \n",
    "plt.xticks(X_axis, X)\n",
    "plt.xlabel(\"Subjects\")\n",
    "plt.ylabel(\"Correlation (r)\")\n",
    "plt.title(\"Correlation of u2 to axes in each subject\")\n",
    "plt.legend()\n",
    "#plt.show()\n",
    "#plt.savefig(str(\"/home/bic/hauer/Desktop/barGraphU2.png\"))"
   ]
  },
  {
   "cell_type": "code",
   "execution_count": 6,
   "id": "e905f8ae",
   "metadata": {},
   "outputs": [
    {
     "name": "stdout",
     "output_type": "stream",
     "text": [
      "(20, 3)\n",
      "U1\n",
      "mean: [0.60290857 0.14282382 0.62050074]\n",
      "std: [0.12564582 0.1072131  0.13927844]\n",
      "U2\n",
      "mean: [0.36526343 0.30577489 0.32249371]\n",
      "std: [0.2166872  0.08102842 0.20894127]\n"
     ]
    }
   ],
   "source": [
    "#rearrange U1 and U2 for them to correspond correclty in the plot\n",
    "rVals=np.loadtxt(str(outDir+'corr_subs_'+side+'_1sd.csv'),delimiter=',',skiprows=1)\n",
    "coord=['X','Y','Z']\n",
    "#rVals[[4,5]]=rVals[[5,4]] #pnc005\n",
    "rVals[[2,3]]=rVals[[3,2]] #PNC004\n",
    "rVals[[0,1]]=rVals[[1,0]] #PNC001\n",
    "#rVals[[8,9]]=rVals[[9,8]]  #PNC007\n",
    "#rVals[[6,7]]=rVals[[7,6]] #PNC006\n",
    "#rVals[[16,17]]=rVals[[17,16]]  #PNC012\n",
    "rVals[[14,15]]=rVals[[15,14]]  #PNC011\n",
    "#rVals[[18,19]]=rVals[[19,18]]  #PNC0010\n",
    "#rVals[[24,25]]=rVals[[25,24]]  #PNC0013\n",
    "rVals=np.abs(rVals)\n",
    "#np.savetxt(str(outDir+'corr_subs_1sd_adjusted.csv'),rVals)\n",
    "print(rVals.shape)\n",
    "#show the mean value of U1 and U2 correlations accross all subjects\n",
    "U1=np.delete(rVals,[1,3,5,7,9,11,13,15,17,19],axis=0)\n",
    "U2=np.delete(rVals,[0,2,4,6,8,10,12,14,16,18],axis=0)\n",
    "print('U1')\n",
    "print('mean: '+str(np.mean(U1,axis=0)))\n",
    "print('std: '+str(np.std(U1,axis=0)))\n",
    "print('U2')\n",
    "print('mean: '+str(np.mean(U2,axis=0)))\n",
    "print('std: '+str(np.std(U2,axis=0)))\n",
    "#print(rVals)"
   ]
  },
  {
   "cell_type": "code",
   "execution_count": 7,
   "id": "71c24275",
   "metadata": {},
   "outputs": [],
   "source": [
    "#input BIGBRAIN correlations values of all 3 coordinates in MNI152 space\n",
    "BBoutDir='/host/percy/local_raid/hans/amyg/hist/outputs/'\n",
    "BBVals=np.loadtxt(str(BBoutDir+'corr_MNI152_'+side2+'_1sd.csv'),delimiter=',',skiprows=1)\n",
    "BBVals=np.abs(BBVals)\n",
    "BBVals=np.flip(BBVals,1)"
   ]
  },
  {
   "cell_type": "code",
   "execution_count": null,
   "id": "1c4def19",
   "metadata": {},
   "outputs": [],
   "source": [
    "#make radar plots for the correlations values of all subjects and bigbrain in MNI152 space\n",
    "\n",
    "#make 2 arrays one for each component (U1 and U2)\n",
    "U1_data=rVals[::2,:]\n",
    "U2_data=rVals[1::2,:]\n",
    "U1_data=np.append(U1_data,[BBVals[0][:]],axis=0)\n",
    "U2_data=np.append(U2_data,[BBVals[1][:]],axis=0)\n",
    "\n",
    "#show spider plot of subjects for U1\n",
    "import plotly\n",
    "import plotly.graph_objects as go\n",
    "from plotly.subplots import make_subplots\n",
    "cols = plotly.colors.DEFAULT_PLOTLY_COLORS\n",
    "categories = ['S1','S4','S5','S6','S7','S9','S10','S11','S12','S13','BIGBRAIN','S1']\n",
    "\n",
    "fig = go.Figure()\n",
    "fig = make_subplots(rows=1, cols=2, specs=[[{'type': 'polar'}] * 2] * 1)\n",
    "U1_datan=np.append(U1_data,[U1_data[0][:]],axis=0)\n",
    "U2_datan=np.append(U2_data,[U2_data[0][:]],axis=0)\n",
    "\n",
    "#U1 chart\n",
    "for i in range(3):\n",
    "    if i==0:\n",
    "        name='I-S'\n",
    "    elif i==1:\n",
    "        name='P-A'\n",
    "    else:\n",
    "        name='M-L'\n",
    "        \n",
    "    fig.add_trace(go.Scatterpolar(\n",
    "        r=U1_datan[:,i],\n",
    "        theta=categories,\n",
    "        #fill='toself',\n",
    "        line=dict(width=3, color=cols[i]),\n",
    "        name=name),\n",
    "        row=1,\n",
    "        col=1,\n",
    "        )\n",
    "#U2 chart\n",
    "for i in range(3):\n",
    "    if i==0:\n",
    "        name='I-S'\n",
    "    elif i==1:\n",
    "        name='P-A'\n",
    "    else:\n",
    "        name='M-L'\n",
    "        \n",
    "    fig.add_trace(go.Scatterpolar(\n",
    "        r=U2_datan[:,i],\n",
    "        theta=categories,\n",
    "        #fill='toself',\n",
    "        line=dict(width=3, color=cols[i]),\n",
    "        name=name),\n",
    "        row=1,\n",
    "        col=2,\n",
    "        )\n",
    "\n",
    "fig.update_layout(\n",
    "    autosize=False,\n",
    "    width=1000,\n",
    "    height=1000,\n",
    "    polar=dict(\n",
    "        radialaxis=dict(\n",
    "            visible=True,\n",
    "            range=[0, 0.9],\n",
    "            dtick=0.2,\n",
    "            gridwidth=2,\n",
    "            tickfont=dict(size=20)\n",
    "        )\n",
    "    ),\n",
    "    polar2=dict(\n",
    "        radialaxis=dict(\n",
    "            visible=True,\n",
    "            range=[0, 0.9],\n",
    "            dtick=0.2,\n",
    "            gridwidth=2,\n",
    "            tickfont=dict(size=20)\n",
    "        )\n",
    "    )\n",
    ")\n",
    "\n",
    "fig.show()\n",
    "#plt.savefig(str('/home/bic/hauer/Desktop/radarPlot_amyg_ero5_1sd.png'))"
   ]
  },
  {
   "cell_type": "code",
   "execution_count": 7,
   "id": "edb1317f",
   "metadata": {},
   "outputs": [
    {
     "data": {
      "image/png": "[encoded data removed]",
      "text/plain": [
       "<Figure size 648x252 with 2 Axes>"
      ]
     },
     "metadata": {
      "needs_background": "light"
     },
     "output_type": "display_data"
    }
   ],
   "source": [
    "#make a barchart of BIGBRAIN correlation to axes\n",
    "\n",
    "rVals = np.array([[0.1527,0.1039,0.3186],[0.8815,0.1786,0.2827]])\n",
    "\n",
    "\n",
    "X = ['BB']\n",
    "  \n",
    "X_axis = np.arange(len(X))\n",
    "\n",
    "fig, axs = plt.subplots(1, 2, figsize=(9, 3.5))\n",
    "\n",
    "for k in [0,1]:\n",
    "\n",
    "    axs[k].bar(X_axis - 0.2, rVals[k,0], 0.2, label = 'I-S')\n",
    "    axs[k].bar(X_axis + 0, rVals[k,1], 0.2, label = 'A-P')\n",
    "    axs[k].bar(X_axis + 0.2, rVals[k,2], 0.2, label = 'M-L')\n",
    "    axs[k].set_ylim([0,0.9])\n",
    "    #axs[k].xticks(X_axis, X)\n",
    "    #axs[k].xlabel(\"Subjects\")\n",
    "    #axs[k].ylabel(\"Correlation (r)\")\n",
    "    #axs[k].title(str(\"Correlation of u\"+str(k+1)+\" to axes in each subject\"))\n",
    "    axs[k].legend()\n",
    "    #plt.show()\n",
    "fig.savefig(str(\"/home/bic/hauer/Desktop/barGraphBB_ero11.png\"))"
   ]
  },
  {
   "cell_type": "code",
   "execution_count": null,
   "id": "f01e4bda",
   "metadata": {},
   "outputs": [],
   "source": []
  }
 ],
 "metadata": {
  "kernelspec": {
   "display_name": "Python 3 (ipykernel)",
   "language": "python",
   "name": "python3"
  },
  "language_info": {
   "codemirror_mode": {
    "name": "ipython",
    "version": 3
   },
   "file_extension": ".py",
   "mimetype": "text/x-python",
   "name": "python",
   "nbconvert_exporter": "python",
   "pygments_lexer": "ipython3",
   "version": "3.7.11"
  }
 },
 "nbformat": 4,
 "nbformat_minor": 5
}
