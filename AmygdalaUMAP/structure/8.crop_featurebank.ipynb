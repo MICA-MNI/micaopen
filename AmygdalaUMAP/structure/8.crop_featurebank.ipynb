{
 "cells": [
  {
   "cell_type": "code",
   "execution_count": 1,
   "id": "bc5786ce-8b43-4600-a42c-6270980abcec",
   "metadata": {},
   "outputs": [],
   "source": [
    "import numpy as np\n",
    "from sklearn.preprocessing import StandardScaler\n",
    "import matplotlib.pyplot as plt\n",
    "import seaborn as sns\n",
    "import pandas as pd\n",
    "%matplotlib inline\n",
    "import nibabel as nib\n",
    "import numpy.ma as ma\n",
    "from numpy import savetxt\n",
    "import os"
   ]
  },
  {
   "cell_type": "code",
   "execution_count": 2,
   "id": "0dd0039c-d44c-4767-828a-b18820671fcb",
   "metadata": {},
   "outputs": [],
   "source": [
    "#input variables and path defs\n",
    "workDir = ***Insert working directory here***\n",
    "outDir = str(workDir+'outputs/')\n",
    "volDir = str(workDir+'volumes/')\n"
   ]
  },
  {
   "cell_type": "code",
   "execution_count": null,
   "id": "13c071ef-28c4-4f91-8312-550117d03b5d",
   "metadata": {},
   "outputs": [],
   "source": [
    "####### do the whole script for all subjects #########\n",
    "\n",
    "for i in [1,4,5,6,7,9,10,11,12,13]:\n",
    "    if i <10:\n",
    "        sub=str('PNC00'+str(i))\n",
    "    else:\n",
    "        sub=str('PNC0'+str(i))\n",
    "    print(sub)\n",
    "    ses='01'\n",
    "    side='left'\n",
    "    side2='L'\n",
    "\n",
    "    # load mask to clean off all background data from feature data\n",
    "    maskNif = nib.load(outDir + 'amyg_mask_'+sub+'_'+ses+'_'+side+'_roi.nii.gz')\n",
    "    mask = np.array(maskNif.dataobj)\n",
    "\n",
    "    #turn mask into a list\n",
    "    maskBin = np.where(mask == 0, 1, 0)\n",
    "    maskBin = maskBin.tolist() \n",
    "    #print(maskBin[:1])\n",
    "\n",
    "    #load all features, apply mask and add to FeatureBank\n",
    "    img = nib.load(outDir+sub+'_'+ses+'features_'+side2+'/original_firstorder_Mean_1_reshape_1sd.nii.gz')\n",
    "    a = np.array(img.dataobj)\n",
    "    x = ma.masked_array(a,maskBin)\n",
    "    FilterBank = x.compressed()\n",
    "    #loop to iterate through all filters at kernel values 2,4,6,8,10\n",
    "    moments= ['Mean','Variance','Skewness','Kurtosis']\n",
    "    for i in [1,2,3,4,5]:\n",
    "\n",
    "        for j in moments:\n",
    "            if i==1 and j=='Mean':\n",
    "                continue\n",
    "            img = nib.load(outDir+sub+'_'+ses+'features_'+side2+'/original_firstorder_'+j+'_'+str(i)+'_reshape_1sd.nii.gz')\n",
    "            a = np.array(img.dataobj)\n",
    "\n",
    "            x = ma.masked_array(a,maskBin)\n",
    "            x = x.compressed()\n",
    "            FilterBank = np.vstack([FilterBank,x])\n",
    "\n",
    "    # turn feature bank into a dataframe for UMAP\n",
    "    df = pd.DataFrame(FilterBank)\n",
    "    df = df.T\n",
    "    df.columns = ['mean1','variance1','skewness1','kurtosis1','mean2','variance2','skewness2','kurtosis2','mean3','variance3','skewness3','kurtosis3','mean4','variance4','skewness4','kurtosis4','mean5','variance5','skewness5','kurtosis5']\n",
    "\n",
    "\n",
    "    os.chdir(outDir+sub+'_'+ses+'features_'+side2+'/')\n",
    "    print(len(df.values))\n",
    "    #df.to_pickle('cropped_featurebank.pkl')\n",
    "    savetxt('cropped_featurebank_1sd.csv',df.values,delimiter=',')"
   ]
  },
  {
   "cell_type": "code",
   "execution_count": null,
   "id": "7f680045-b14f-44cc-8d65-62b631c9d5d4",
   "metadata": {},
   "outputs": [],
   "source": []
  }
 ],
 "metadata": {
  "kernelspec": {
   "display_name": "Python 3 (ipykernel)",
   "language": "python",
   "name": "python3"
  },
  "language_info": {
   "codemirror_mode": {
    "name": "ipython",
    "version": 3
   },
   "file_extension": ".py",
   "mimetype": "text/x-python",
   "name": "python",
   "nbconvert_exporter": "python",
   "pygments_lexer": "ipython3",
   "version": "3.7.11"
  }
 },
 "nbformat": 4,
 "nbformat_minor": 5
}
