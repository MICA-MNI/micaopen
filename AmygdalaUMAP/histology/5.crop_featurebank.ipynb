{
 "cells": [
  {
   "cell_type": "code",
   "execution_count": 2,
   "id": "b251e584",
   "metadata": {},
   "outputs": [],
   "source": [
    "import numpy as np\n",
    "from sklearn.preprocessing import StandardScaler\n",
    "import matplotlib.pyplot as plt\n",
    "import seaborn as sns\n",
    "import pandas as pd\n",
    "%matplotlib inline\n",
    "import nibabel as nib\n",
    "import numpy.ma as ma\n",
    "from numpy import savetxt\n",
    "import os"
   ]
  },
  {
   "cell_type": "code",
   "execution_count": 3,
   "id": "98b6f42f",
   "metadata": {},
   "outputs": [],
   "source": [
    "#input variables\n",
    "res='100'\n",
    "side='R'"
   ]
  },
  {
   "cell_type": "code",
   "execution_count": 4,
   "id": "18812f57",
   "metadata": {},
   "outputs": [],
   "source": [
    "##set up workling directories\n",
    "outDir = ***Insert working directory here***"
   ]
  },
  {
   "cell_type": "code",
   "execution_count": 5,
   "id": "40a812bb",
   "metadata": {},
   "outputs": [],
   "source": [
    "# load mask to clean off all background data from feature data\n",
    "maskNif = nib.load(outDir+'amyg_'+side+'_'+res+'um_mask-bin-vF_ero5.nii.gz')\n",
    "mask = np.array(maskNif.dataobj)\n",
    "\n",
    "#turn mask into a list\n",
    "maskBin = np.where(mask == 1, 0, 1)\n",
    "maskBin = maskBin.tolist() \n",
    "#print(len())"
   ]
  },
  {
   "cell_type": "code",
   "execution_count": 6,
   "id": "9f6f65ed",
   "metadata": {},
   "outputs": [],
   "source": [
    "#load all features, apply mask and add to FeatureBank\n",
    "img = nib.load(outDir+res+'umfeatures_'+side+'/original_firstorder_Mean_2_reshape_ero5_1sd.nii.gz')\n",
    "a = np.array(img.dataobj)\n",
    "x = ma.masked_array(a,maskBin)\n",
    "FilterBank = x.compressed()\n",
    "#loop to iterate through all filters at kernel values 2,4,6,8,10\n",
    "moments= ['Mean','Variance','Skewness','Kurtosis']\n",
    "for i in [2,4,6,8,10]:\n",
    "\n",
    "    for j in moments:\n",
    "        if i==2 and j=='Mean':\n",
    "            continue\n",
    "        img = nib.load(outDir+res+'umfeatures_'+side+'/original_firstorder_'+j+'_'+str(i)+'_reshape_ero5_1sd.nii.gz')\n",
    "        a = np.array(img.dataobj)\n",
    "\n",
    "        x = ma.masked_array(a,maskBin)\n",
    "        x = x.compressed()\n",
    "        FilterBank = np.vstack([FilterBank,x])\n",
    "\n",
    "# turn feature bank into a dataframe for UMAP\n",
    "df = pd.DataFrame(FilterBank)\n",
    "df = df.T\n",
    "df.columns = ['mean2','variance2','skewness2','kurtosis2','mean4','variance4','skewness4','kurtosis4','mean6','variance6','skewness6','kurtosis6','mean8','variance8','skewness8','kurtosis8','mean10','variance10','skewness10','kurtosis10']\n"
   ]
  },
  {
   "cell_type": "code",
   "execution_count": 12,
   "id": "b5256d8b",
   "metadata": {},
   "outputs": [
    {
     "name": "stdout",
     "output_type": "stream",
     "text": [
      "792387\n"
     ]
    }
   ],
   "source": [
    "os.chdir(outDir+res+'umfeatures_'+side+'/')\n",
    "print(len(df.values))\n",
    "df.to_pickle('cropped_featurebank.pkl')\n",
    "savetxt('cropped_featurebank_ero5_1sd.csv',df.values,delimiter=',')"
   ]
  },
  {
   "cell_type": "code",
   "execution_count": 7,
   "id": "7c8ac086",
   "metadata": {},
   "outputs": [
    {
     "name": "stdout",
     "output_type": "stream",
     "text": [
      "<bound method DataFrame.info of             mean2   variance2  skewness2  kurtosis2      mean4   variance4  \\\n",
      "0      -61.429306  532.416016   0.739799   3.664687 -54.639835  596.564514   \n",
      "1      -57.154564  609.807068   0.560287   2.939886 -52.812206  547.948242   \n",
      "2      -54.525879  621.042175   0.414414   2.639289 -51.236454  534.831360   \n",
      "3      -52.350361  524.459167   0.157227   2.354322 -51.421482  525.872192   \n",
      "4      -51.897541  472.049377   0.306810   2.550369 -51.615910  523.190552   \n",
      "...           ...         ...        ...        ...        ...         ...   \n",
      "792382 -84.602051  244.670380   0.830648   2.687839 -78.392387  386.410614   \n",
      "792383 -83.828484  286.405182   0.865338   2.721282 -78.160629  406.419922   \n",
      "792384 -81.210304  354.432495   0.894591   2.925510 -76.055084  397.578796   \n",
      "792385 -83.549377  305.335785   1.043758   3.248524 -76.458778  403.483734   \n",
      "792386 -84.420715  287.382568   0.921631   2.603119 -76.241234  414.588257   \n",
      "\n",
      "        skewness4  kurtosis4      mean6   variance6  skewness6  kurtosis6  \\\n",
      "0        0.129287   2.700868 -48.061359  765.411377   0.329204   3.015728   \n",
      "1        0.062970   2.691984 -48.998852  748.560608   0.341356   3.075049   \n",
      "2        0.079347   2.791035 -48.869320  733.795532   0.353490   3.134564   \n",
      "3        0.052773   2.809217 -48.116962  702.902344   0.347253   3.196562   \n",
      "4        0.081515   2.858537 -47.675949  675.464844   0.320592   3.216903   \n",
      "...           ...        ...        ...         ...        ...        ...   \n",
      "792382   0.707332   2.684890 -70.019554  674.900696   0.632083   2.536771   \n",
      "792383   0.790153   3.023500 -70.391701  662.349121   0.623353   2.496668   \n",
      "792384   0.577544   2.557484 -67.464981  737.583679   0.626931   2.541790   \n",
      "792385   0.599114   2.546826 -66.793449  746.573547   0.582987   2.468306   \n",
      "792386   0.617948   2.567910 -67.219818  761.157043   0.586608   2.416482   \n",
      "\n",
      "            mean8   variance8  skewness8  kurtosis8     mean10  variance10  \\\n",
      "0      -46.833897  810.127258   0.229233   2.861886 -49.298393  797.893677   \n",
      "1      -47.514782  790.052795   0.224879   2.840368 -49.562576  800.406616   \n",
      "2      -48.200954  780.560547   0.209048   2.819188 -49.503796  814.486755   \n",
      "3      -48.097641  766.894836   0.202044   2.862324 -49.747223  807.731873   \n",
      "4      -47.673550  768.626465   0.200246   2.853991 -49.701508  807.240479   \n",
      "...           ...         ...        ...        ...        ...         ...   \n",
      "792382 -65.297691  841.008362   0.532326   2.285046 -62.677402  912.163025   \n",
      "792383 -64.765038  841.803040   0.505658   2.271038 -62.243511  919.831238   \n",
      "792384 -65.514236  863.653381   0.579509   2.349847 -63.596954  904.639404   \n",
      "792385 -64.784630  871.613586   0.548849   2.306344 -63.237755  904.540344   \n",
      "792386 -64.252266  875.621521   0.525640   2.271884 -62.845146  910.495422   \n",
      "\n",
      "        skewness10  kurtosis10  \n",
      "0         0.234425    2.820631  \n",
      "1         0.225834    2.786249  \n",
      "2         0.235654    2.763927  \n",
      "3         0.227903    2.724075  \n",
      "4         0.234228    2.727185  \n",
      "...            ...         ...  \n",
      "792382    0.469918    2.234053  \n",
      "792383    0.465276    2.246719  \n",
      "792384    0.489371    2.223889  \n",
      "792385    0.481597    2.228147  \n",
      "792386    0.479086    2.236373  \n",
      "\n",
      "[792387 rows x 20 columns]>\n"
     ]
    }
   ],
   "source": [
    "print(df.info)"
   ]
  },
  {
   "cell_type": "code",
   "execution_count": null,
   "id": "00e0cc93",
   "metadata": {},
   "outputs": [],
   "source": [
    "### turn pickle file into csv file for matlab usage ###"
   ]
  },
  {
   "cell_type": "code",
   "execution_count": 13,
   "id": "99297a22",
   "metadata": {},
   "outputs": [
    {
     "name": "stdout",
     "output_type": "stream",
     "text": [
      "<class 'pandas.core.frame.DataFrame'>\n"
     ]
    }
   ],
   "source": [
    "os.chdir(outDir)\n",
    "df=pd.read_pickle(res+'umfeatures_'+side+'/cropped_featurebank.pkl')\n",
    "print(type(df))"
   ]
  },
  {
   "cell_type": "code",
   "execution_count": 14,
   "id": "a3b8cf3d",
   "metadata": {},
   "outputs": [
    {
     "name": "stdout",
     "output_type": "stream",
     "text": [
      "<class 'pandas.core.frame.DataFrame'>\n"
     ]
    }
   ],
   "source": [
    "print(type(df))"
   ]
  },
  {
   "cell_type": "code",
   "execution_count": 10,
   "id": "d093671a",
   "metadata": {},
   "outputs": [],
   "source": [
    "os.chdir(outDir)\n",
    "path=str(res+'umfeatures_'+side+'/cropped_featurebank.csv')\n",
    "df.to_csv(path)"
   ]
  },
  {
   "cell_type": "code",
   "execution_count": null,
   "id": "f3a0d5da",
   "metadata": {},
   "outputs": [],
   "source": []
  }
 ],
 "metadata": {
  "kernelspec": {
   "display_name": "Python 3 (ipykernel)",
   "language": "python",
   "name": "python3"
  },
  "language_info": {
   "codemirror_mode": {
    "name": "ipython",
    "version": 3
   },
   "file_extension": ".py",
   "mimetype": "text/x-python",
   "name": "python",
   "nbconvert_exporter": "python",
   "pygments_lexer": "ipython3",
   "version": "3.7.11"
  }
 },
 "nbformat": 4,
 "nbformat_minor": 5
}
