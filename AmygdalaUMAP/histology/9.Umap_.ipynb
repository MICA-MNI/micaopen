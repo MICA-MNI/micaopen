{
 "cells": [
  {
   "cell_type": "code",
   "execution_count": 1,
   "id": "bdf44d31",
   "metadata": {},
   "outputs": [],
   "source": [
    "import numpy as np\n",
    "from sklearn.preprocessing import StandardScaler\n",
    "import matplotlib.pyplot as plt\n",
    "import seaborn as sns\n",
    "import pandas as pd\n",
    "%matplotlib inline\n",
    "import nibabel as nib\n",
    "import numpy.ma as ma\n",
    "from numpy import savetxt\n",
    "import os\n",
    "#set up working directories\n",
    "outDir = ***Insert working directory here***"
   ]
  },
  {
   "cell_type": "code",
   "execution_count": 2,
   "id": "442d432a",
   "metadata": {},
   "outputs": [],
   "source": [
    "#input variables\n",
    "res='100'\n",
    "side='L'"
   ]
  },
  {
   "cell_type": "code",
   "execution_count": 3,
   "id": "36857ea5",
   "metadata": {},
   "outputs": [],
   "source": [
    "# load mask to clean off all background data from feature data\n",
    "# pick different masks depending on the cropping size\n",
    "maskNif = nib.load(outDir+'amyg_'+side+'_'+res+'um_mask-bin-vF_ero5.nii.gz')\n",
    "mask = np.array(maskNif.dataobj)\n",
    "\n",
    "#turn mask into a list\n",
    "maskBin = np.where(mask == 1, 0, 1)\n",
    "maskBin = maskBin.tolist()"
   ]
  },
  {
   "cell_type": "code",
   "execution_count": 4,
   "id": "23bf9461",
   "metadata": {},
   "outputs": [],
   "source": [
    "#load target amydala segmentation derived from julich probability maps and then save nifty file as csv\n",
    "target_file=str('prob_prctile_all_overlap')\n",
    "tmp = nib.load(outDir+side+'_'+res+'um_'+target_file+'.nii.gz')\n",
    "a = np.array(tmp.dataobj)\n",
    "target = ma.masked_array(a, maskBin)\n",
    "target = target.compressed()\n",
    "#savetxt(outDir+side+'_'+res+'um_'+target_file+'.csv',target, delimiter=',')"
   ]
  },
  {
   "cell_type": "code",
   "execution_count": null,
   "id": "e8c76adf",
   "metadata": {},
   "outputs": [],
   "source": [
    "#calculate UMAP embeddings and save a csv file for each embedding\n",
    "import umap.umap_ as umap\n",
    "nn=15\n",
    "md=0.1\n",
    "os.chdir(outDir)\n",
    "df=pd.read_csv(res+'umfeatures_'+side+'/cropped_featurebank_ero5_1sd.csv',header=None)\n",
    "\n",
    "path = str(outDir +'/'+res+'umUMAPembeddings_'+side+'_amyg_ero5_1sd.csv')\n",
    "\n",
    "reducer = umap.UMAP(n_neighbors=nn, min_dist=md)\n",
    "\n",
    "feature_data = df.values\n",
    "scaled_feature_data = StandardScaler().fit_transform(feature_data)\n",
    "\n",
    "embedding = reducer.fit_transform(scaled_feature_data)\n",
    "\n",
    "#savetxt(path,embedding, delimiter=',')\n"
   ]
  },
  {
   "cell_type": "code",
   "execution_count": null,
   "id": "c3981b8d",
   "metadata": {},
   "outputs": [],
   "source": [
    "#project UMAP embeddings as scatter plot\n",
    "embedding=embedding\n",
    "plt.figure(figsize=(6,6))\n",
    "plt.scatter(\n",
    "    embedding[:, 1],\n",
    "    embedding[:, 0],\n",
    "    s=.001)\n",
    "\n",
    "plt.show\n",
    "#plt.savefig(str('/home/bic/hauer/Desktop/amyg_'+side+'_UMAP.png'))\n",
    "#plt.title('UMAP projection of the amygdala', fontsize=20)"
   ]
  }
 ],
 "metadata": {
  "kernelspec": {
   "display_name": "Python 3 (ipykernel)",
   "language": "python",
   "name": "python3"
  },
  "language_info": {
   "codemirror_mode": {
    "name": "ipython",
    "version": 3
   },
   "file_extension": ".py",
   "mimetype": "text/x-python",
   "name": "python",
   "nbconvert_exporter": "python",
   "pygments_lexer": "ipython3",
   "version": "3.7.11"
  }
 },
 "nbformat": 4,
 "nbformat_minor": 5
}
