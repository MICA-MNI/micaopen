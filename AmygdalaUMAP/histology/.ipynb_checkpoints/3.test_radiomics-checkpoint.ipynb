{
 "cells": [
  {
   "cell_type": "code",
   "execution_count": 1,
   "metadata": {},
   "outputs": [],
   "source": [
    "#input amygdala volume and mask and outputs nifti files of amygdala for each kernel value and moment\n",
    "from __future__ import print_function \n",
    "import sys\n",
    "import os\n",
    "import logging\n",
    "import six\n",
    "import nrrd\n",
    "import numpy as np\n",
    "import SimpleITK as sitk\n",
    "from radiomics import featureextractor, getFeatureClasses\n",
    "import radiomics"
   ]
  },
  {
   "cell_type": "code",
   "execution_count": 2,
   "metadata": {},
   "outputs": [],
   "source": [
    "#input variables\n",
    "res='100' #resolution of data in microns\n",
    "side='R' #side of hemisphere\n",
    "\n",
    "#for loop that makes .nii files for every feature extracted from original volume at kernels 2,4,6,8,10\n",
    "featureClasses = getFeatureClasses()\n",
    "\n",
    "#imageName, maskName = radiomics.getTestCase('brain1')\n",
    "workDir = ***insert path to your working directory***\n",
    "\n",
    "#amygdala volume\n",
    "im = sitk.ReadImage(workDir+'/amyg_'+side+'_'+res+'um.nii.gz')\n",
    "#mask of the amygdala\n",
    "mask = sitk.ReadImage(workDir + '/amyg_'+side+'_'+res+'um_mask-bin-vF_ero5.nii.gz')\n",
    "\n",
    "#if imageName is None or maskName is None:  # Something went wrong, in this case PyRadiomics will also log an error\n",
    "#    raise Exception('Error getting testcase!')  # Raise exception to prevent cells below from running in case of \"run all\""
   ]
  },
  {
   "cell_type": "code",
   "execution_count": null,
   "metadata": {},
   "outputs": [],
   "source": [
    "# Set up and run extractor\n",
    "# Use hardcoded settings (separate for settings, input image types and enabled features)\n",
    "settings = {}\n",
    "settings['normalize'] = True\n",
    "settings['normalizeScale'] = 100\n",
    "settings['removeOutliers'] = 1\n",
    "settings['binWidth'] = 25\n",
    "settings['resampledPixelSpacing'] = None\n",
    "settings['interpolator'] = 4\n",
    "settings['verbose'] = True\n",
    "settings['voxelBatch'] = 10\n",
    "#settings['initValue'] = float('NaN')\n",
    "\n",
    "for kernelRad in range(0,10,2):   \n",
    "    settings['kernelRadius'] = kernelRad + 2\n",
    "    extractor = featureextractor.RadiomicsFeatureExtractor(**settings)\n",
    "\n",
    "    # Disable all classes\n",
    "    extractor.disableAllFeatures()\n",
    "\n",
    "    # Enable all features in firstorder\n",
    "    #extractor.enableFeatureClassByName('firstorder')\n",
    "    extractor.enableFeaturesByName(firstorder=['Mean', 'Variance', 'Skewness', 'Kurtosis'])\n",
    "\n",
    "    # By default, only 'Original' (no filter applied) is enabled. Optionally enable some image types:\n",
    "    extractor.disableAllImageTypes()\n",
    "    extractor.enableImageTypeByName('Original')\n",
    "    # extractor.enableImageTypeByName('Wavelet')\n",
    "    # extractor.enableImageTypeByName('LoG', customArgs={'sigma':[4]})\n",
    "    # extractor.enableImageTypeByName('Square')\n",
    "    # extractor.enableImageTypeByName('SquareRoot')\n",
    "    # extractor.enableImageTypeByName('Exponential')\n",
    "    # extractor.enableImageTypeByName('Logarithm')\n",
    "    print('Enabled input images:')\n",
    "    for imageType in extractor.enabledImagetypes.keys():\n",
    "        print('\\t' + imageType)\n",
    "\n",
    "    # Calculate features\n",
    "    print('Calculating features')\n",
    "    result = extractor.execute(im, mask, voxelBased=True)\n",
    "\n",
    "    outPath = str('/host/percy/local_raid/hans/amyg/hist/outputs/'+res+'umfeatures_'+side+'/')\n",
    "        #make proper directory is it does not exist yet:\n",
    "    import os\n",
    "    if not os.path.exists(outPath):\n",
    "        os.mkdir(outPath)\n",
    "        \n",
    "    # Show output voxel based    \n",
    "    for key, val in six.iteritems(result):\n",
    "        if isinstance(val, sitk.Image):  # Feature map\n",
    "            sitk.WriteImage(val, outPath + key + '_' + str(kernelRad + 2) + '.nrrd', True)\n",
    "            print(\"Stored feature %s in %s\" % (key, key + \".nrrd\"))\n",
    "        else:  # Diagnostic info\n",
    "            print(\"\\t%s: %s\" %(key, val))\n",
    "\n",
    "    # Write to nifti\n",
    "    imPath = outPath\n",
    "    prefix = 'original_firstorder'\n",
    "\n",
    "    # Read images and save as nii\n",
    "    #volItk = sitk.ReadImage(imPath + prefix + '_Mean_' + str(kernelRad + 2) + '.nrrd')\n",
    "    #sitk.WriteImage(volItk, imPath + prefix + '_Mean_' + str(kernelRad + 2) + '_ero5_1sd.nii.gz')\n",
    "\n",
    "    #volItk = sitk.ReadImage(imPath + prefix + '_Variance_' + str(kernelRad + 2) + '.nrrd')\n",
    "    #sitk.WriteImage(volItk, imPath + prefix + '_Variance_' + str(kernelRad + 2) + '_ero5_1sd.nii.gz')\n",
    "\n",
    "    #volItk = sitk.ReadImage(imPath + prefix + '_Skewness_' + str(kernelRad + 2) + '.nrrd')\n",
    "    #sitk.WriteImage(volItk, imPath + prefix + '_Skewness_' + str(kernelRad + 2) + '_ero5_1sd.nii.gz')\n",
    "\n",
    "    #volItk = sitk.ReadImage(imPath + prefix + '_Kurtosis_' + str(kernelRad + 2) + '.nrrd')\n",
    "    #sitk.WriteImage(volItk, imPath + prefix + '_Kurtosis_' + str(kernelRad + 2) + '_ero5_1sd.nii.gz')\n",
    "\n"
   ]
  },
  {
   "cell_type": "code",
   "execution_count": null,
   "metadata": {},
   "outputs": [],
   "source": []
  },
  {
   "cell_type": "code",
   "execution_count": null,
   "metadata": {},
   "outputs": [],
   "source": [
    "import matplotlib.pyplot as plt\n",
    "import nibabel as nib"
   ]
  },
  {
   "cell_type": "code",
   "execution_count": null,
   "metadata": {},
   "outputs": [],
   "source": [
    "sig = '2'\n",
    "im_mean_2 = nib.load(imPath + prefix + '_Mean' '_' + sig + '.nii.gz')\n",
    "#print(im_mean_2.header)\n",
    "meanData2=im_mean_2.get_fdata()\n",
    "meanData2.shape\n",
    "xslice = meanData2[10,:,:]\n",
    "yslice = meanData2[:,10,:]\n",
    "zslice = meanData2[:,:,10]\n",
    "slices=[xslice,yslice,zslice]\n",
    "fig, axes = plt.subplots(1, len(slices))\n",
    "for i, slice in enumerate(slices):\n",
    "    axes[i].imshow(slice.T, cmap=\"gray\", origin=\"lower\")"
   ]
  },
  {
   "cell_type": "code",
   "execution_count": null,
   "metadata": {},
   "outputs": [],
   "source": [
    "#retrieve filters for filterbank\n"
   ]
  },
  {
   "cell_type": "code",
   "execution_count": null,
   "metadata": {},
   "outputs": [],
   "source": []
  },
  {
   "cell_type": "code",
   "execution_count": null,
   "metadata": {},
   "outputs": [],
   "source": []
  }
 ],
 "metadata": {
  "kernelspec": {
   "display_name": "Python 3 (ipykernel)",
   "language": "python",
   "name": "python3"
  },
  "language_info": {
   "codemirror_mode": {
    "name": "ipython",
    "version": 3
   },
   "file_extension": ".py",
   "mimetype": "text/x-python",
   "name": "python",
   "nbconvert_exporter": "python",
   "pygments_lexer": "ipython3",
   "version": "3.7.11"
  }
 },
 "nbformat": 4,
 "nbformat_minor": 4
}
