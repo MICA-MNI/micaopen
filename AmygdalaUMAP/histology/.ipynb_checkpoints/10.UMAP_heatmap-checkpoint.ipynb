{
 "cells": [
  {
   "cell_type": "code",
   "execution_count": 33,
   "id": "8d11bcfb-6f8f-4d0c-9e0c-32faf5304cf9",
   "metadata": {},
   "outputs": [],
   "source": [
    "import numpy as np\n",
    "from sklearn.preprocessing import StandardScaler\n",
    "import matplotlib.pyplot as plt\n",
    "import seaborn as sns\n",
    "import pandas as pd\n",
    "%matplotlib inline\n",
    "import nibabel as nib\n",
    "import numpy.ma as ma\n",
    "from numpy import savetxt\n",
    "import os\n",
    "#set up working directories\n",
    "outDir = ***Insert working directory here***"
   ]
  },
  {
   "cell_type": "code",
   "execution_count": 35,
   "id": "fe271e58-1207-4c83-87c7-96cc478adf72",
   "metadata": {},
   "outputs": [],
   "source": [
    "#input variables\n",
    "res='100'\n",
    "side='L'"
   ]
  },
  {
   "cell_type": "code",
   "execution_count": 41,
   "id": "0590824c-b94d-4d64-982e-47622394d817",
   "metadata": {},
   "outputs": [],
   "source": [
    "# load mask to clean off all background data from feature data\n",
    "# pick different masks depending on the cropping size\n",
    "maskNif = nib.load(outDir+'amyg_'+side+'_'+res+'um_mask-bin-vF_ero5.nii.gz')\n",
    "mask = np.array(maskNif.dataobj)\n",
    "\n",
    "#turn mask into a list\n",
    "maskBin = np.where(mask == 1, 0, 1)\n",
    "maskBin = maskBin.tolist() "
   ]
  },
  {
   "cell_type": "code",
   "execution_count": 42,
   "id": "6458fe69-1adb-4df9-8cb9-deb193ec9b74",
   "metadata": {},
   "outputs": [],
   "source": [
    "#Load UMAP embeddings\n",
    "nn=15\n",
    "md=0.1\n",
    "path = str(outDir +'/'+res+'umUMAPembeddings_'+side+'_amyg_ero5_1sd.csv')\n",
    "embedding=np.loadtxt(path,delimiter=',')"
   ]
  },
  {
   "cell_type": "code",
   "execution_count": 43,
   "id": "e6cbfcf1-ae85-4e55-b462-f525316047a7",
   "metadata": {},
   "outputs": [],
   "source": [
    "#load all three amydala segmentations (CM,LB,SF) derived from julich probability maps and make matrix for them\n",
    "target_file=str('prob_prctile_probsCM')\n",
    "tmp = nib.load(outDir+side+'_'+res+'um_'+target_file+'.nii.gz')\n",
    "CM = np.array(tmp.dataobj)\n",
    "\n",
    "target_file=str('prob_prctile_probsLB')\n",
    "tmp = nib.load(outDir+side+'_'+res+'um_'+target_file+'.nii.gz')\n",
    "LB = np.array(tmp.dataobj)\n",
    "\n",
    "target_file=str('prob_prctile_probsSF')\n",
    "tmp = nib.load(outDir+side+'_'+res+'um_'+target_file+'.nii.gz')\n",
    "SF = np.array(tmp.dataobj)"
   ]
  },
  {
   "cell_type": "code",
   "execution_count": null,
   "id": "7daf37f0-bc6c-4724-8e59-a5eedeba3dec",
   "metadata": {},
   "outputs": [],
   "source": [
    "#create matrix with corresponding coordinates for each U1/2 values in order to create colormap for UMAP projections\n",
    "matlen=len(mask[:,1,1])*len(mask[1,:,1])*len(mask[1,1,:])\n",
    "print(matlen)\n",
    "coords=np.zeros((matlen,8))\n",
    "num=0\n",
    "for i in range(len(mask[:,1,1])):\n",
    "    for j in range(len(mask[1,:,1])):\n",
    "        for k in range(len(mask[1,1,:])):\n",
    "            if mask[i,j,k] == 1:\n",
    "                coords[num,0] = embedding[num,0]\n",
    "                coords[num,1] = embedding[num,1]\n",
    "                if CM[i,j,k] != 0:       \n",
    "                    coords[num,2]=CM[i,j,k]\n",
    "                elif LB[i,j,k] != 0:\n",
    "                    coords[num,3]=LB[i,j,k]\n",
    "                elif SF[i,j,k] != 0:\n",
    "                    coords[num,4]=SF[i,j,k]\n",
    "                num=num+1;\n",
    "                \n",
    "                "
   ]
  },
  {
   "cell_type": "code",
   "execution_count": 45,
   "id": "88e1a68c-3d4f-4ca7-b347-f9687eb6da78",
   "metadata": {},
   "outputs": [],
   "source": [
    "#####don't need this unless using rgb values####\n",
    "#turn all coordinate points into rbg values (scale to 1)\n",
    "\n",
    "for c in [2,3,4]:\n",
    "    #make the min value = 0 for each dimension in order to scale \n",
    "    minVal = min(coords[:,c][np.nonzero(coords[:,c])])\n",
    "    for pos,val in enumerate(coords[:,c]): \n",
    "        if coords[pos,c] != 0:\n",
    "            coords[pos,5] = val-minVal\n",
    "            coords[pos,6] = val-minVal\n",
    "            coords[pos,7] = val-minVal\n",
    "    maxVal = max(coords[:,c])\n",
    "    # scale values to 1\n",
    "    if c == 2:\n",
    "        scaleR, scaleG, scaleB = 100/maxVal, 50/maxVal, 255/maxVal \n",
    "\n",
    "    if c == 3:\n",
    "        scaleR, scaleG, scaleB = 50/maxVal, 255/maxVal, 100/maxVal\n",
    "\n",
    "    if c == 4:\n",
    "        scaleR, scaleG, scaleB = 255/maxVal, 100/maxVal, 50/maxVal\n",
    "\n",
    "    for pos,val in enumerate(coords[:,c]):\n",
    "        if coords[pos,c] != 0:\n",
    "            #divide by 255,50 and 100 to make all values RGBa instead of rgb\n",
    "            coords[pos,5] = val*scaleR/255\n",
    "            coords[pos,6] = val*scaleG/255\n",
    "            coords[pos,7] = val*scaleB/255\n"
   ]
  },
  {
   "cell_type": "code",
   "execution_count": 53,
   "id": "3dea55fb-af3a-445e-9161-d64658cff34e",
   "metadata": {},
   "outputs": [],
   "source": [
    "#initialise groups for UMAP scatter plot\n",
    "#divide by points in juelich maps and points outside\n",
    "sd = 4\n",
    "juelichpts = coords[:,0:2][np.nonzero(coords[:,sd])]\n",
    "greypts = coords[:,0:2][np.nonzero(coords[:,sd] == 0)]\n",
    "probs = coords[:,sd][np.nonzero(coords[:,sd])]\n",
    "rgb = coords[:,5:8][np.nonzero(coords[:,sd])]\n",
    "grey = coords[:,5:8][np.nonzero(coords[:,2] == 0)]"
   ]
  },
  {
   "cell_type": "code",
   "execution_count": null,
   "id": "2a8d091a-043f-47cd-9da0-0799f52f4ba6",
   "metadata": {},
   "outputs": [],
   "source": [
    "#project UMAP embeddings as scatter plot with the juelich probability maps as validation\n",
    "\n",
    "plt.figure(figsize=(8,8))\n",
    "plt.scatter(\n",
    "    juelichpts[:, 1],\n",
    "    juelichpts[:, 0],\n",
    "    c = probs,\n",
    "    cmap = 'viridis',\n",
    "    alpha=1,\n",
    "    s=.1)\n",
    "plt.colorbar()\n",
    "plt.scatter(\n",
    "    greypts[:, 1],\n",
    "    greypts[:, 0],\n",
    "    color = [0.5,0.5,0.5],\n",
    "    alpha=0.08,\n",
    "    s=.1)\n",
    "plt.show\n",
    "plt.savefig(str(side+\"_SF_heatmap_UMAP_\"+res+\"um_amyg_ero5_1sd.png\"))"
   ]
  }
 ],
 "metadata": {
  "kernelspec": {
   "display_name": "Python 3 (ipykernel)",
   "language": "python",
   "name": "python3"
  },
  "language_info": {
   "codemirror_mode": {
    "name": "ipython",
    "version": 3
   },
   "file_extension": ".py",
   "mimetype": "text/x-python",
   "name": "python",
   "nbconvert_exporter": "python",
   "pygments_lexer": "ipython3",
   "version": "3.7.11"
  }
 },
 "nbformat": 4,
 "nbformat_minor": 5
}
