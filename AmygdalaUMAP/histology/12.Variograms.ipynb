{
 "cells": [
  {
   "cell_type": "code",
   "execution_count": 1,
   "id": "0e5d6b1f-ad74-40c9-8f93-cb898ab3ed86",
   "metadata": {},
   "outputs": [],
   "source": [
    "import numpy as np\n",
    "from sklearn.preprocessing import StandardScaler\n",
    "import matplotlib.pyplot as plt\n",
    "import seaborn as sns\n",
    "import pandas as pd\n",
    "%matplotlib inline\n",
    "import nibabel as nib\n",
    "import numpy.ma as ma\n",
    "from numpy import savetxt\n",
    "import os\n",
    "#set up working directories\n",
    "outDir = '/host/percy/local_raid/hans/amyg/hist/outputs/'"
   ]
  },
  {
   "cell_type": "code",
   "execution_count": 2,
   "id": "4b842485-2098-45ba-b34c-9facbbeade49",
   "metadata": {},
   "outputs": [],
   "source": [
    "##set up workling directories\n",
    "outDir = '/data_/mica1/03_projects/hans/BIGBRAIN/outputs/'\n",
    "figDir = '/data_/mica1/03_projects/hans/BIGBRAIN/figures/'\n"
   ]
  },
  {
   "cell_type": "code",
   "execution_count": 3,
   "id": "f9edf0ed-9beb-471a-9823-82fc83d8f6be",
   "metadata": {},
   "outputs": [],
   "source": [
    "#input variables\n",
    "res='100'\n",
    "side='L'"
   ]
  },
  {
   "cell_type": "code",
   "execution_count": 21,
   "id": "65bc4244-e132-4729-a631-adb58ee671b7",
   "metadata": {},
   "outputs": [
    {
     "name": "stdout",
     "output_type": "stream",
     "text": [
      "12214\n"
     ]
    }
   ],
   "source": [
    "#create matrix with corresponding coordinates for each U1/2 values of cropped 1 in every 5x5x5\n",
    "mapNif1 = nib.load(outDir+'tpl-icbm_desc-U1_ero5_1sd.nii')\n",
    "mapU1 = np.array(mapNif1.dataobj)\n",
    "mapNif2 = nib.load(outDir+'tpl-icbm_desc-U2_ero5_1sd.nii')\n",
    "mapU2 = np.array(mapNif2.dataobj)\n",
    "\n",
    "coords=np.zeros((12214,5))\n",
    "num=0\n",
    "for i in range(len(mapU1[:,1,1])):\n",
    "    for j in range(len(mapU1[1,:,1])):\n",
    "        for k in range(len(mapU1[1,1,:])):\n",
    "            if mapU1[i,j,k] != 0:\n",
    "                coords[num,0]=i\n",
    "                coords[num,1]=j\n",
    "                coords[num,2]=k\n",
    "                coords[num,3]=mapU1[i,j,k]\n",
    "                coords[num,4]=mapU2[i,j,k]\n",
    "                num=num+1\n",
    "print(num)"
   ]
  },
  {
   "cell_type": "code",
   "execution_count": 22,
   "id": "3b643fb7-d691-4d5e-aa02-1663a865d676",
   "metadata": {},
   "outputs": [
    {
     "name": "stdout",
     "output_type": "stream",
     "text": [
      "12214\n"
     ]
    }
   ],
   "source": [
    "import numexpr as ne\n",
    "list_a = coords[:,0:3]\n",
    "U1 = coords[:,3]\n",
    "\n",
    "#print(list_a)\n",
    "\n",
    "def numexpr_based_with_slicing(A,B):\n",
    "    a0 = A[...,0]\n",
    "    a1 = A[...,1]\n",
    "    b0 = B[...,0]\n",
    "    b1 = B[...,1]\n",
    "    return ne.evaluate('sqrt((a0-b0)**2 + (a1-b1)**2)')\n",
    "\n",
    "def run_euc(list_a,list_b):\n",
    "    return np.array([[ numexpr_based_with_slicing(i,j) for j in list_b] for i in list_a])\n",
    "\n",
    "D = run_euc(list_a, list_a)\n",
    "print(len(D))"
   ]
  },
  {
   "cell_type": "code",
   "execution_count": 23,
   "id": "ffa255af-a696-4ad5-9bc3-638f7e8d0494",
   "metadata": {},
   "outputs": [],
   "source": [
    "dM=D"
   ]
  },
  {
   "cell_type": "code",
   "execution_count": 24,
   "id": "9aee6f7b-3f82-4801-89e6-8d6d6edee0d1",
   "metadata": {},
   "outputs": [],
   "source": [
    "Dsort= np.argsort(D, axis=1)"
   ]
  },
  {
   "cell_type": "code",
   "execution_count": 25,
   "id": "b29c5bea-fe36-46dc-9d0a-97df9506d786",
   "metadata": {},
   "outputs": [
    {
     "data": {
      "text/plain": [
       "SampledSurrogateMaps(b=2.462214450449026, deltas=array([0.3, 0.5, 0.7, 0.9]),\n",
       "                     kernel=<function exp at 0x7faee9becd40>, knn=1500, ns=3000,\n",
       "                     random_state=0)"
      ]
     },
     "execution_count": 25,
     "metadata": {},
     "output_type": "execute_result"
    }
   ],
   "source": [
    "from brainspace.null_models import SampledSurrogateMaps\n",
    "X=coords[:,0]\n",
    "Y=coords[:,1]\n",
    "Z=coords[:,2]\n",
    "U2 = coords[:,4]\n",
    "ssm = SampledSurrogateMaps(ns=3000, knn=1500, random_state=0)\n",
    "ssm.fit(D,Dsort)"
   ]
  },
  {
   "cell_type": "code",
   "execution_count": 26,
   "id": "e638c5b4-326f-4f87-9ac7-b11b4a75c743",
   "metadata": {},
   "outputs": [],
   "source": [
    "from scipy.stats import spearmanr\n",
    "U2=coords[:,4]\n",
    "U1=coords[:,3]\n",
    "X_surrogates = ssm.randomize(X, n_rep=1000)\n",
    "Y_surrogates = ssm.randomize(Y, n_rep=1000)\n",
    "Z_surrogates = ssm.randomize(Z, n_rep=1000)\n"
   ]
  },
  {
   "cell_type": "code",
   "execution_count": 31,
   "id": "d0926c49-8827-47e3-903d-65263e09744d",
   "metadata": {},
   "outputs": [
    {
     "name": "stdout",
     "output_type": "stream",
     "text": [
      "X:\n",
      " Obs      : 2.26059e-196\n",
      " Variogram: 8.00000e-03\n",
      "\n",
      "Y:\n",
      " Obs      : 1.07614e-217\n",
      " Variogram: 2.00000e-03\n",
      "\n",
      "Z:\n",
      " Obs      : 1.30251e-01\n",
      " Variogram: 9.09000e-01\n",
      "\n"
     ]
    },
    {
     "data": {
      "image/png": "[encoded data removed]",
      "text/plain": [
       "<Figure size 648x252 with 3 Axes>"
      ]
     },
     "metadata": {
      "needs_background": "light"
     },
     "output_type": "display_data"
    }
   ],
   "source": [
    "#run variogram matching test for U2\n",
    "fig, axs = plt.subplots(1, 3, figsize=(9, 3.5))\n",
    "\n",
    "feats = {'X': X, 'Y': Y, 'Z':Z}\n",
    "rand = {'X': X_surrogates, 'Y': Y_surrogates, 'Z': Z_surrogates}\n",
    "pv_obs=1\n",
    "for k, (fn, data) in enumerate(rand.items()):\n",
    "    r_obs,pv_obs = spearmanr(feats[fn], U2, nan_policy='omit')\n",
    "\n",
    "    # Compute perm pval\n",
    "    r_rand = np.asarray([spearmanr(U2, d)[0] for d in data])\n",
    "    pv_rand = np.mean(np.abs(r_rand) >= np.abs(r_obs))\n",
    "\n",
    "    # Plot null dist\n",
    "    weights = np.ones_like(r_rand) / (len(r_rand))\n",
    "    axs[k].hist(r_rand, bins=25, density=False,weights=weights, alpha=0.5, color=(.8, .8, .8))\n",
    "    axs[k].axvline(r_obs, lw=2, ls='--', color='k')\n",
    "    axs[k].set_xlabel(f'Correlation with {fn}')\n",
    "    if k == 0:\n",
    "        axs[k].set_ylabel('Density')\n",
    "\n",
    "    print(f'{fn.capitalize()}:\\n Obs      : {pv_obs:.5e}\\n '\n",
    "          f'Variogram: {pv_rand:.5e}\\n')\n",
    "    #print(r_rand[:10])\n",
    "fig.tight_layout()\n",
    "plt.show()\n",
    "fig.savefig(\"variagram_U2_amyg_ero5_1sd\")"
   ]
  },
  {
   "cell_type": "code",
   "execution_count": 12,
   "id": "b8f9b052-230a-498d-be41-46240631bbea",
   "metadata": {},
   "outputs": [
    {
     "name": "stdout",
     "output_type": "stream",
     "text": [
      "X:\n",
      " Obs      : 8.78898e-09\n",
      " Variogram: 4.41000e-01\n",
      "\n",
      "Y:\n",
      " Obs      : 4.86492e-93\n",
      " Variogram: 0.00000e+00\n",
      "\n",
      "Z:\n",
      " Obs      : 8.58334e-291\n",
      " Variogram: 0.00000e+00\n",
      "\n"
     ]
    },
    {
     "data": {
      "image/png": "[encoded data removed]",
      "text/plain": [
       "<Figure size 648x252 with 3 Axes>"
      ]
     },
     "metadata": {
      "needs_background": "light"
     },
     "output_type": "display_data"
    }
   ],
   "source": [
    "#run variogram matching test for U2\n",
    "fig, axs = plt.subplots(1, 3, figsize=(9, 3.5))\n",
    "\n",
    "feats = {'X': X, 'Y': Y, 'Z':Z}\n",
    "rand = {'X': X_surrogates, 'Y': Y_surrogates, 'Z': Z_surrogates}\n",
    "pv_obs=1\n",
    "for k, (fn, data) in enumerate(rand.items()):\n",
    "    r_obs,pv_obs = spearmanr(feats[fn], U1, nan_policy='omit')\n",
    "\n",
    "    # Compute perm pval\n",
    "    r_rand = np.asarray([spearmanr(U1, d)[0] for d in data])\n",
    "    pv_rand = np.mean(np.abs(r_rand) >= np.abs(r_obs))\n",
    "\n",
    "    # Plot null dist\n",
    "    axs[k].hist(r_rand, bins=25, density=True, alpha=0.5, color=(.8, .8, .8))\n",
    "    axs[k].axvline(r_obs, lw=2, ls='--', color='k')\n",
    "    axs[k].set_xlabel(f'Correlation with {fn}')\n",
    "    if k == 0:\n",
    "        axs[k].set_ylabel('Density')\n",
    "\n",
    "    print(f'{fn.capitalize()}:\\n Obs      : {pv_obs:.5e}\\n '\n",
    "          f'Variogram: {pv_rand:.5e}\\n')\n",
    "\n",
    "fig.tight_layout()\n",
    "plt.show()\n",
    "fig.savefig(\"variagram_U1_amyg_ero5_1sd\")"
   ]
  },
  {
   "cell_type": "code",
   "execution_count": 1,
   "id": "d25072eb-0f7e-4afb-aad5-31d0bb75057e",
   "metadata": {},
   "outputs": [
    {
     "ename": "AttributeError",
     "evalue": "module 'matplotlib' has no attribute 'subplots'",
     "output_type": "error",
     "traceback": [
      "\u001b[0;31m---------------------------------------------------------------------------\u001b[0m",
      "\u001b[0;31mAttributeError\u001b[0m                            Traceback (most recent call last)",
      "\u001b[0;32m/tmp/ipykernel_9712/2111007016.py\u001b[0m in \u001b[0;36m<module>\u001b[0;34m\u001b[0m\n\u001b[1;32m      1\u001b[0m \u001b[0;32mimport\u001b[0m \u001b[0mmatplotlib\u001b[0m \u001b[0;32mas\u001b[0m \u001b[0mplt\u001b[0m\u001b[0;34m\u001b[0m\u001b[0;34m\u001b[0m\u001b[0m\n\u001b[0;32m----> 2\u001b[0;31m \u001b[0mfig\u001b[0m\u001b[0;34m,\u001b[0m \u001b[0maxs\u001b[0m \u001b[0;34m=\u001b[0m \u001b[0mplt\u001b[0m\u001b[0;34m.\u001b[0m\u001b[0msubplots\u001b[0m\u001b[0;34m(\u001b[0m\u001b[0;36m1\u001b[0m\u001b[0;34m,\u001b[0m \u001b[0;36m3\u001b[0m\u001b[0;34m,\u001b[0m \u001b[0mfigsize\u001b[0m\u001b[0;34m=\u001b[0m\u001b[0;34m(\u001b[0m\u001b[0;36m9\u001b[0m\u001b[0;34m,\u001b[0m \u001b[0;36m3.5\u001b[0m\u001b[0;34m)\u001b[0m\u001b[0;34m)\u001b[0m\u001b[0;34m\u001b[0m\u001b[0;34m\u001b[0m\u001b[0m\n\u001b[0m\u001b[1;32m      3\u001b[0m \u001b[0mos\u001b[0m\u001b[0;34m.\u001b[0m\u001b[0mchdir\u001b[0m\u001b[0;34m(\u001b[0m\u001b[0mfigDir\u001b[0m\u001b[0;34m)\u001b[0m\u001b[0;34m\u001b[0m\u001b[0;34m\u001b[0m\u001b[0m\n\u001b[1;32m      4\u001b[0m \u001b[0mfeats\u001b[0m \u001b[0;34m=\u001b[0m \u001b[0;34m{\u001b[0m\u001b[0;34m'X'\u001b[0m\u001b[0;34m:\u001b[0m \u001b[0mX\u001b[0m\u001b[0;34m,\u001b[0m \u001b[0;34m'Y'\u001b[0m\u001b[0;34m:\u001b[0m \u001b[0mY\u001b[0m\u001b[0;34m,\u001b[0m \u001b[0;34m'Z'\u001b[0m\u001b[0;34m:\u001b[0m\u001b[0mZ\u001b[0m\u001b[0;34m}\u001b[0m\u001b[0;34m\u001b[0m\u001b[0;34m\u001b[0m\u001b[0m\n\u001b[1;32m      5\u001b[0m \u001b[0mrand\u001b[0m \u001b[0;34m=\u001b[0m \u001b[0;34m{\u001b[0m\u001b[0;34m'X'\u001b[0m\u001b[0;34m:\u001b[0m \u001b[0mX_surrogates\u001b[0m\u001b[0;34m,\u001b[0m \u001b[0;34m'Y'\u001b[0m\u001b[0;34m:\u001b[0m \u001b[0mY_surrogates\u001b[0m\u001b[0;34m,\u001b[0m \u001b[0;34m'Z'\u001b[0m\u001b[0;34m:\u001b[0m \u001b[0mZ_surrogates\u001b[0m\u001b[0;34m}\u001b[0m\u001b[0;34m\u001b[0m\u001b[0;34m\u001b[0m\u001b[0m\n",
      "\u001b[0;31mAttributeError\u001b[0m: module 'matplotlib' has no attribute 'subplots'"
     ]
    }
   ],
   "source": [
    "## run variogram matching test for coordinates X, Y and Z\n",
    "import matplotlib as plt\n",
    "fig, axs = plt.subplots(1, 3, figsize=(9, 3.5))\n",
    "os.chdir(figDir)\n",
    "feats = {'X': X, 'Y': Y, 'Z':Z}\n",
    "rand = {'X': X_surrogates, 'Y': Y_surrogates, 'Z': Z_surrogates}\n",
    "#pv_obs=1\n",
    "for k, (fn, data) in enumerate(rand.items()):\n",
    "    r_obs,pv_obs = spearmanr(feats[fn], U2, nan_policy='omit')\n",
    "\n",
    "    # Compute perm pval\n",
    "    r_rand = np.asarray([spearmanr(U2, d)[0] for d in data])\n",
    "    pv_rand = np.mean(np.abs(r_rand) >= np.abs(r_obs))\n",
    "\n",
    "    # Plot null dist\n",
    "    weights = np.ones_like(r_rand) / (len(r_rand))\n",
    "    nx, xbins, ptchs = axs[k].hist(r_rand, bins=25,weights=weights, alpha=0.5, color=(.8, .8, .8))\n",
    "    plt.clf() # Get rid of this histogram since not the one we want.\n",
    "    nx_frac = nx/float(len(nx)) # Each bin divided by total number of objects.\n",
    "    width = xbins[1] - xbins[0] # Width of each bin.\n",
    "    x = np.ravel(zip(xbins[:-1], xbins[:-1]+width))\n",
    "    y = np.ravel(zip(nx_frac,nx_frac))\n",
    "\n",
    "    axs[k].plot(x,y,linestyle=\"dashed\",label=\"MyLabel\")\n",
    "    axs[k].axvline(r_obs, lw=2, ls='--', color='k')\n",
    "    axs[k].set_xlabel(f'Correlation with {fn}')\n",
    "    if k == 0:\n",
    "        axs[k].set_ylabel('Density')\n",
    "    print(f'{fn.capitalize()}:\\n Obs      : {pv_obs:.5e}\\n '\n",
    "          f'Variogram: {pv_rand:.5e}\\n')\n",
    "    plt.gca().set_ylim([0,0.12])\n",
    "\n",
    "plt.ylim()\n",
    "fig.tight_layout()\n",
    "plt.show()"
   ]
  },
  {
   "cell_type": "code",
   "execution_count": null,
   "id": "680a30bd-e926-4ee5-90f5-007e400efead",
   "metadata": {},
   "outputs": [],
   "source": []
  }
 ],
 "metadata": {
  "kernelspec": {
   "display_name": "Python 3 (ipykernel)",
   "language": "python",
   "name": "python3"
  },
  "language_info": {
   "codemirror_mode": {
    "name": "ipython",
    "version": 3
   },
   "file_extension": ".py",
   "mimetype": "text/x-python",
   "name": "python",
   "nbconvert_exporter": "python",
   "pygments_lexer": "ipython3",
   "version": "3.7.11"
  }
 },
 "nbformat": 4,
 "nbformat_minor": 5
}
